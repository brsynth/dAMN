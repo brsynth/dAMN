{
 "cells": [
  {
   "cell_type": "markdown",
   "metadata": {},
   "source": [
    "# Testing the dAMN model"
   ]
  },
  {
   "cell_type": "code",
   "execution_count": null,
   "metadata": {},
   "outputs": [],
   "source": [
    "import os\n",
    "os.environ['TF_CPP_MIN_LOG_LEVEL'] = '2'\n",
    "import sklearn\n",
    "import utils\n",
    "import numpy as np\n",
    "import tensorflow as tf\n",
    "from sklearn.metrics import r2_score\n",
    "\n",
    "metabolite_ids = [\n",
    "'glc__D_e', 'xyl__D_e', 'succ_e', 'ala__L_e', 'arg__L_e', 'asn__L_e', 'asp__L_e',\n",
    "'cys__L_e', 'glu__L_e', 'gln__L_e', 'gly_e', 'his__L_e', 'ile__L_e', 'leu__L_e',\n",
    "'lys__L_e', 'met__L_e', 'phe__L_e', 'pro__L_e', 'ser__L_e', 'thr__L_e', 'trp__L_e',\n",
    "'tyr__L_e', 'val__L_e', 'ade_e', 'gua_e', 'csn_e', 'ura_e', 'thymd_e', 'BIOMASS'\n",
    "]\n",
    "\n",
    "train_test_split = 'forecast' # 'forecast' or 'medium'\n",
    "folder = './'\n",
    "file_name = 'M28_OD_20'\n",
    "run_name = f'{file_name}_{train_test_split}'\n",
    "OD = True # when True biomass concentration transformed in OD\n",
    "plot =  'substrate' # 'growth' or 'substrate'\n",
    "N_iter = 1 if plot ==  'substrate' else 3 # assigning the number of iterations according to the plot type\n",
    "\n",
    "\n",
    "# Load\n",
    "val_array = np.loadtxt(f'{folder}model/{run_name}_val_array.txt', dtype=float)\n",
    "val_dev = np.loadtxt(f'{folder}model/{run_name}_val_dev.txt', dtype=float)\n",
    "val_ids = np.loadtxt(f'{folder}model/{run_name}_val_ids.txt', dtype=int)\n",
    "if val_array is None:\n",
    "    raise ValueError(f'Validation file not found: {folder}model/{run_name}_val_array.txt')\n",
    "\n",
    "# Predict\n",
    "Pred, Ref, Pred_bio, Ref_bio = {}, {}, {}, {}\n",
    "for i in range(N_iter):\n",
    "    model_name = f'{folder}model/{run_name}_{str(i)}'\n",
    "    model = utils.MetabolicModel.load_model(model_name=model_name, verbose=False)\n",
    "    model.metabolite_ids = metabolite_ids if len(model.metabolite_ids) == 0 else model.metabolite_ids\n",
    "    pred, ref = utils.predict_on_val_data(model, val_array, verbose=False) # 1, 86, 157\n",
    "    pred, ref = np.asarray(pred), np.asarray(ref)\n",
    "    Pred[i], Ref[i] = pred, ref\n",
    "Pred , Ref = np.asarray(list(Pred.values())), np.asarray(list(Ref.values()))\n",
    "R2 = utils.r2_growth_curve(Pred, Ref, OD=OD)\n",
    "\n",
    "print(f'Model: {run_name}  R2 = {np.mean(R2):.2f}±{np.std(R2):.2f} Median = {np.median(R2):.2f}')\n",
    "title = f\"R2 Histogram {train_test_split}\"\n",
    "utils.plot_similarity_distribution(title, R2, save=\"./figure\")\n",
    "\n",
    "# Plot\n",
    "if plot == 'growth':\n",
    "    utils.plot_predicted_reference_growth_curve(\n",
    "    times=model.times,\n",
    "    Pred=Pred, Ref=Ref, val_dev=val_dev,\n",
    "    OD=OD,R2=R2,\n",
    "    train_time_steps=model.train_time_steps if hasattr(model, \"train_time_steps\") else 0,\n",
    "    experiment_ids=list(val_ids),\n",
    "    run_name=run_name,\n",
    "    train_test_split=train_test_split,\n",
    "    save=\"./figure\",\n",
    "    )\n",
    "elif plot == 'substrate':\n",
    "    utils.plot_predicted_biomass_and_substrate(\n",
    "    model.times, Pred,\n",
    "    experiment_ids=list(val_ids),\n",
    "    metabolite_ids=list(model.metabolite_ids),\n",
    "    run_name=run_name,\n",
    "    train_test_split=train_test_split,\n",
    "    save=\"./figure\"\n",
    "    )"
   ]
  }
 ],
 "metadata": {
  "kernelspec": {
   "display_name": "condaDanilo",
   "language": "python",
   "name": "python3"
  },
  "language_info": {
   "codemirror_mode": {
    "name": "ipython",
    "version": 3
   },
   "file_extension": ".py",
   "mimetype": "text/x-python",
   "name": "python",
   "nbconvert_exporter": "python",
   "pygments_lexer": "ipython3",
   "version": "3.11.11"
  }
 },
 "nbformat": 4,
 "nbformat_minor": 2
}
