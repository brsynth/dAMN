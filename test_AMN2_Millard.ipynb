{
 "cells": [
  {
   "cell_type": "code",
   "execution_count": 1,
   "metadata": {},
   "outputs": [
    {
     "name": "stderr",
     "output_type": "stream",
     "text": [
      "2025-07-04 14:05:21.404196: I tensorflow/core/util/port.cc:153] oneDNN custom operations are on. You may see slightly different numerical results due to floating-point round-off errors from different computation orders. To turn them off, set the environment variable `TF_ENABLE_ONEDNN_OPTS=0`.\n",
      "2025-07-04 14:05:21.439626: E external/local_xla/xla/stream_executor/cuda/cuda_fft.cc:467] Unable to register cuFFT factory: Attempting to register factory for plugin cuFFT when one has already been registered\n",
      "WARNING: All log messages before absl::InitializeLog() is called are written to STDERR\n",
      "E0000 00:00:1751630721.484423   56785 cuda_dnn.cc:8579] Unable to register cuDNN factory: Attempting to register factory for plugin cuDNN when one has already been registered\n",
      "E0000 00:00:1751630721.496004   56785 cuda_blas.cc:1407] Unable to register cuBLAS factory: Attempting to register factory for plugin cuBLAS when one has already been registered\n",
      "W0000 00:00:1751630721.525016   56785 computation_placer.cc:177] computation placer already registered. Please check linkage and avoid linking the same target more than once.\n",
      "W0000 00:00:1751630721.525074   56785 computation_placer.cc:177] computation placer already registered. Please check linkage and avoid linking the same target more than once.\n",
      "W0000 00:00:1751630721.525078   56785 computation_placer.cc:177] computation placer already registered. Please check linkage and avoid linking the same target more than once.\n",
      "W0000 00:00:1751630721.525081   56785 computation_placer.cc:177] computation placer already registered. Please check linkage and avoid linking the same target more than once.\n",
      "2025-07-04 14:05:21.538786: I tensorflow/core/platform/cpu_feature_guard.cc:210] This TensorFlow binary is optimized to use available CPU instructions in performance-critical operations.\n",
      "To enable the following instructions: AVX2 AVX_VNNI FMA, in other operations, rebuild TensorFlow with the appropriate compiler flags.\n",
      "2025-07-04 14:05:28.241256: E external/local_xla/xla/stream_executor/cuda/cuda_platform.cc:51] failed call to cuInit: INTERNAL: CUDA error: Failed call to cuInit: UNKNOWN ERROR (303)\n"
     ]
    },
    {
     "ename": "ValueError",
     "evalue": "cannot reshape array of size 580 into shape (580,20,29)",
     "output_type": "error",
     "traceback": [
      "\u001b[0;31m---------------------------------------------------------------------------\u001b[0m",
      "\u001b[0;31mValueError\u001b[0m                                Traceback (most recent call last)",
      "Cell \u001b[0;32mIn[1], line 31\u001b[0m\n\u001b[1;32m     29\u001b[0m model_name \u001b[38;5;241m=\u001b[39m \u001b[38;5;124mf\u001b[39m\u001b[38;5;124m'\u001b[39m\u001b[38;5;132;01m{\u001b[39;00mfolder\u001b[38;5;132;01m}\u001b[39;00m\u001b[38;5;124mmodel/\u001b[39m\u001b[38;5;132;01m{\u001b[39;00mrun_name\u001b[38;5;132;01m}\u001b[39;00m\u001b[38;5;124m_\u001b[39m\u001b[38;5;132;01m{\u001b[39;00m\u001b[38;5;28mstr\u001b[39m(i)\u001b[38;5;132;01m}\u001b[39;00m\u001b[38;5;124m'\u001b[39m\n\u001b[1;32m     30\u001b[0m model \u001b[38;5;241m=\u001b[39m utils\u001b[38;5;241m.\u001b[39mMetabolicModel\u001b[38;5;241m.\u001b[39mload_model(model_name\u001b[38;5;241m=\u001b[39mmodel_name, verbose\u001b[38;5;241m=\u001b[39m\u001b[38;5;28;01mFalse\u001b[39;00m)\n\u001b[0;32m---> 31\u001b[0m pred_val_od, ref_val_od \u001b[38;5;241m=\u001b[39m \u001b[43mutils\u001b[49m\u001b[38;5;241;43m.\u001b[39;49m\u001b[43mpredict_biomass_on_val_data\u001b[49m\u001b[43m(\u001b[49m\u001b[43mmodel\u001b[49m\u001b[43m,\u001b[49m\u001b[43m \u001b[49m\u001b[43mval_array\u001b[49m\u001b[43m,\u001b[49m\u001b[43m \u001b[49m\u001b[43mverbose\u001b[49m\u001b[38;5;241;43m=\u001b[39;49m\u001b[38;5;28;43;01mFalse\u001b[39;49;00m\u001b[43m)\u001b[49m\n\u001b[1;32m     32\u001b[0m pred \u001b[38;5;241m=\u001b[39m np\u001b[38;5;241m.\u001b[39mlog(utils\u001b[38;5;241m.\u001b[39mReLU(pred_val_od \u001b[38;5;241m/\u001b[39m utils\u001b[38;5;241m.\u001b[39mALPHA) \u001b[38;5;241m+\u001b[39m \u001b[38;5;241m1.0e-8\u001b[39m)\n\u001b[1;32m     33\u001b[0m ref  \u001b[38;5;241m=\u001b[39m np\u001b[38;5;241m.\u001b[39mlog(utils\u001b[38;5;241m.\u001b[39mReLU(ref_val_od \u001b[38;5;241m/\u001b[39m utils\u001b[38;5;241m.\u001b[39mALPHA)  \u001b[38;5;241m+\u001b[39m \u001b[38;5;241m1.0e-8\u001b[39m)\n",
      "File \u001b[0;32m~/Research/Inrae/code/AMN2/utils.py:819\u001b[0m, in \u001b[0;36mpredict_biomass_on_val_data\u001b[0;34m(model, val_array, verbose)\u001b[0m\n\u001b[1;32m    809\u001b[0m \u001b[38;5;250m\u001b[39m\u001b[38;5;124;03m\"\"\"\u001b[39;00m\n\u001b[1;32m    810\u001b[0m \u001b[38;5;124;03mPredict the biomass timecourse for the validation data.\u001b[39;00m\n\u001b[1;32m    811\u001b[0m \u001b[38;5;124;03m1. Reshape val_array (Z_val, (T+1)*k) to (Z_val, T+1, k)\u001b[39;00m\n\u001b[0;32m   (...)\u001b[0m\n\u001b[1;32m    816\u001b[0m \u001b[38;5;124;03m   ref_biomassD:  reference (Z_val, T+1) as a NumPy array\u001b[39;00m\n\u001b[1;32m    817\u001b[0m \u001b[38;5;124;03m\"\"\"\u001b[39;00m\n\u001b[1;32m    818\u001b[0m Z_val \u001b[38;5;241m=\u001b[39m val_array\u001b[38;5;241m.\u001b[39mshape[\u001b[38;5;241m0\u001b[39m]\n\u001b[0;32m--> 819\u001b[0m C_val_all \u001b[38;5;241m=\u001b[39m \u001b[43mval_array\u001b[49m\u001b[38;5;241;43m.\u001b[39;49m\u001b[43mreshape\u001b[49m\u001b[43m(\u001b[49m\u001b[43m(\u001b[49m\u001b[43mZ_val\u001b[49m\u001b[43m,\u001b[49m\u001b[43m \u001b[49m\u001b[43mmodel\u001b[49m\u001b[38;5;241;43m.\u001b[39;49m\u001b[43mT\u001b[49m\u001b[38;5;241;43m+\u001b[39;49m\u001b[38;5;241;43m1\u001b[39;49m\u001b[43m,\u001b[49m\u001b[43m \u001b[49m\u001b[43mmodel\u001b[49m\u001b[38;5;241;43m.\u001b[39;49m\u001b[43mk\u001b[49m\u001b[43m)\u001b[49m\u001b[43m)\u001b[49m\n\u001b[1;32m    820\u001b[0m predictions \u001b[38;5;241m=\u001b[39m predict_timecourse(model, C_val_all, verbose\u001b[38;5;241m=\u001b[39mverbose)\n\u001b[1;32m    821\u001b[0m \u001b[38;5;66;03m# Extract biomass column (assumed last column)\u001b[39;00m\n",
      "\u001b[0;31mValueError\u001b[0m: cannot reshape array of size 580 into shape (580,20,29)"
     ]
    }
   ],
   "source": [
    "import utils # AMN defined functions\n",
    "import numpy as np\n",
    "import tensorflow as tf\n",
    "from tensorflow.keras.layers import Dense, Dropout\n",
    "from tensorflow.keras.models import Model\n",
    "import os\n",
    "\n",
    "# env and var etup\n",
    "# Conversion factor from OD to biomass (gDW/L)\n",
    "utils.ALPHA = 0.37\n",
    "os.environ['TF_CPP_MIN_LOG_LEVEL'] = '2'\n",
    "###############################################################################\n",
    "# TEST\n",
    "###############################################################################\n",
    "\n",
    "folder = './'\n",
    "run_name = 'Millard'\n",
    "N_iter = 2\n",
    "val_array = np.loadtxt(f'{folder}model/{run_name}_val_array.txt', dtype=float)\n",
    "val_dev = np.loadtxt(f'{folder}model/{run_name}_val_dev.txt', dtype=float)\n",
    "val_ids = np.loadtxt(f'{folder}model/{run_name}_val_ids.txt', dtype=int)\n",
    "plot = True\n",
    "\n",
    "\n",
    "# Predict OD and Plot\n",
    "if val_array is not None:\n",
    "    Pred, Ref = {}, {}\n",
    "    for i in range(N_iter):\n",
    "        model_name = f'{folder}model/{run_name}_{str(i)}'\n",
    "        model = utils.MetabolicModel.load_model(model_name=model_name, verbose=False)\n",
    "        pred_val_od, ref_val_od = utils.predict_biomass_on_val_data(model, val_array, verbose=False)\n",
    "        pred = np.log(utils.ReLU(pred_val_od / utils.ALPHA) + 1.0e-8)\n",
    "        ref  = np.log(utils.ReLU(ref_val_od / utils.ALPHA)  + 1.0e-8)\n",
    "        Pred[i] = np.asarray(pred)\n",
    "        Ref[i]  = np.asarray(ref)\n",
    "    Ref, Pred = np.asarray(list(Ref.values())), np.asarray(list(Pred.values()))\n",
    "    ref, pred = np.mean(Ref, axis=0), np.mean(Pred, axis=0)\n",
    "    ref_std, pred_std = val_dev, np.std(Pred, axis=0) # val_pred is from input data file\n",
    "    similarity = 0\n",
    "    # For each experiment, compute an error metric and annotate the plot.\n",
    "    Similarity = {}\n",
    "    for i in range(ref.shape[0]):\n",
    "        refi, predi = ref[i], pred[i]\n",
    "        refi_std, predi_std = ref_std[i], pred_std[i]\n",
    "        Similarity[i] = utils.compute_curve_similarity(model.times, refi, predi)\n",
    "        title = f'Experiment {int(val_ids[i])} Pred-True similarity: {Similarity[i]:.2f}'\n",
    "        if i == 0:\n",
    "            print(val_ids[i], ':', refi)\n",
    "        if plot:\n",
    "            utils.plot_growth_curve(title, model.times, refi, predi, ref_std=refi_std, pred_std=predi_std, save=\"./figure\")\n",
    "    Similarity = np.asarray(list(Similarity.values()))\n",
    "    \n",
    "    print(f'Model: {model_name}  Pred-Ref similarity = {np.mean(Similarity):.2f}±{np.std(Similarity):.2f}')\n",
    "    utils.plot_similarity_distribution('Similarity Histogram', Similarity)"
   ]
  }
 ],
 "metadata": {
  "kernelspec": {
   "display_name": "condaDanilo",
   "language": "python",
   "name": "python3"
  },
  "language_info": {
   "codemirror_mode": {
    "name": "ipython",
    "version": 3
   },
   "file_extension": ".py",
   "mimetype": "text/x-python",
   "name": "python",
   "nbconvert_exporter": "python",
   "pygments_lexer": "ipython3",
   "version": "3.11.11"
  }
 },
 "nbformat": 4,
 "nbformat_minor": 2
}
